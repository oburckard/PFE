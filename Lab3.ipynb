{
  "nbformat": 4,
  "nbformat_minor": 0,
  "metadata": {
    "colab": {
      "name": "Lab3",
      "provenance": [],
      "collapsed_sections": [],
      "authorship_tag": "ABX9TyN2UWZCrbB6fXT8F9NNmuea",
      "include_colab_link": true
    },
    "kernelspec": {
      "name": "python3",
      "display_name": "Python 3"
    }
  },
  "cells": [
    {
      "cell_type": "markdown",
      "metadata": {
        "id": "view-in-github",
        "colab_type": "text"
      },
      "source": [
        "<a href=\"https://colab.research.google.com/github/oburckard/MyRepo/blob/master/Lab3.ipynb\" target=\"_parent\"><img src=\"https://colab.research.google.com/assets/colab-badge.svg\" alt=\"Open In Colab\"/></a>"
      ]
    },
    {
      "cell_type": "code",
      "metadata": {
        "id": "9hQQ3BR30uWS",
        "colab_type": "code",
        "outputId": "8c412a37-cae5-47c7-f92f-8d56c46ddd24",
        "colab": {
          "base_uri": "https://localhost:8080/",
          "height": 225
        }
      },
      "source": [
        "#Fixed Point Iteration Method\n",
        "import math\n",
        "\n",
        "S=80;\n",
        "def f(x):\n",
        "  return x*x-S\n",
        "\n",
        "#Re-writing f(x)=0 to x=g(x)\n",
        "def g(x):\n",
        "  return (x+S/x)/2\n",
        "\n",
        "#Implementing Fixed Point Iteration Method\n",
        "def fixedPointIteration(x0,e,N):\n",
        "  print('\\n\\n*** FIXED POINT ITERATION ***')\n",
        "  step = 1\n",
        "  flag = 1\n",
        "  condition = True\n",
        "  while condition:\n",
        "    x1 = g(x0)\n",
        "    print('Iteration-%d, x1 = %0.6f and f(x1) = %0.6f' % (step, x1, f(x1)))\n",
        "    x0 = x1\n",
        "\n",
        "    step = step + 1\n",
        "    \n",
        "    if step > N:\n",
        "      flag=0\n",
        "      break\n",
        "    condition = abs(f(x1)) > e\n",
        "\n",
        "  if flag==1:\n",
        "    print('\\nRequired root is: %0.8f' % x1)\n",
        "  else: \n",
        "    print('\\nNot Convergent.')\n",
        "\n",
        "\n",
        "# Input Section\n",
        "x0 = input('Enter Guess: ')\n",
        "e = input('Tolerable Error: ')\n",
        "N = input('Maximum Step: ')\n",
        "# Converting x0 and e to float\n",
        "x0 = float(x0)\n",
        "e = float(e)\n",
        "# Converting N to integer\n",
        "N = int(N)\n",
        "#Note: You can combine above three section like this\n",
        "# x0 = float(input('Enter Guess: '))\n",
        "# e = float(input('Tolerable Error: '))\n",
        "# N = int(input('Maximum Step: '))\n",
        "# Starting fixed point iteration\n",
        "fixedPointIteration(x0,e,N)\n",
        "\n",
        "\n"
      ],
      "execution_count": 20,
      "outputs": [
        {
          "output_type": "stream",
          "text": [
            "Enter Guess: 20\n",
            "Tolerable Error: 0.0001\n",
            "Maximum Step: 100\n",
            "\n",
            "\n",
            "*** FIXED POINT ITERATION ***\n",
            "Iteration-1, x1 = 12.000000 and f(x1) = 64.000000\n",
            "Iteration-2, x1 = 9.333333 and f(x1) = 7.111111\n",
            "Iteration-3, x1 = 8.952381 and f(x1) = 0.145125\n",
            "Iteration-4, x1 = 8.944276 and f(x1) = 0.000066\n",
            "\n",
            "Required root is: 8.94427558\n"
          ],
          "name": "stdout"
        }
      ]
    },
    {
      "cell_type": "code",
      "metadata": {
        "id": "WG7kS3M70zkc",
        "colab_type": "code",
        "colab": {}
      },
      "source": [
        ""
      ],
      "execution_count": 0,
      "outputs": []
    }
  ]
}