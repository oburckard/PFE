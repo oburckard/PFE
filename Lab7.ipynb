{
  "nbformat": 4,
  "nbformat_minor": 0,
  "metadata": {
    "colab": {
      "name": "Lab7.ipynb",
      "provenance": [],
      "collapsed_sections": [],
      "authorship_tag": "ABX9TyOT7zTNFZbqm19Of1GQKzk9",
      "include_colab_link": true
    },
    "kernelspec": {
      "name": "python3",
      "display_name": "Python 3"
    }
  },
  "cells": [
    {
      "cell_type": "markdown",
      "metadata": {
        "id": "view-in-github",
        "colab_type": "text"
      },
      "source": [
        "<a href=\"https://colab.research.google.com/github/oburckard/MyRepo/blob/master/Lab7.ipynb\" target=\"_parent\"><img src=\"https://colab.research.google.com/assets/colab-badge.svg\" alt=\"Open In Colab\"/></a>"
      ]
    },
    {
      "cell_type": "markdown",
      "metadata": {
        "id": "yrrdSZpj6pW2",
        "colab_type": "text"
      },
      "source": [
        "(xi, f(xi)) = (4,2), (6,8), (5,4), (1,10)\n",
        "\n",
        "Lagrange base :\n",
        "\n",
        "l0(x) = (x-6)(x-5)(x-1)/6\n",
        "\n",
        "l1(x) = (x-4)(x-5)(x-1)/10\n",
        "\n",
        "l2(x) = (x-4)(x-6)(x-1)/(-4)\n",
        "\n",
        "l3(x) = (x-4)(x-6)(x-5)/(-60)\n",
        "\n",
        "p(x) = f(x0)l0(x)+f(x1)l1(x)+f(x2)l2(x)+f(x3)l3(x)\n",
        "\n",
        "p(x) = 2*(x-6)(x-5)(x-1)/6 + 8*(x-4)(x-5)(x-1)/10 + 4*(x-4)(x-6)(x-1)/(-4) + 10*(x-4)(x-6)(x-5)/(-60)\n",
        "\n",
        "p(x) = (-1/30)*x^3 + (3/2)*x^2 -(142/15)*x + 18\n",
        "\n",
        "\n",
        "Newton base :\n",
        "\n",
        "x0=4 f[x0]=2\n",
        "\n",
        "               f[x0,x1]=3           f[x0,x1,x2]=1          f[x0,x1,x2,x3]=-1/30 \n",
        "\n",
        "x1=6 f[x1]=8                    \n",
        "\n",
        "               f[x1,x2]=4           f[x1,x2,x3]=11/10\n",
        "\n",
        "x2=5 f[x2]=4\n",
        "\n",
        "               f[x2,x3]=-3/2\n",
        "\n",
        "x3=1 f[x3]=10\n",
        "\n",
        "\n",
        "p(x) = 2 + 3(x-4) + (x-4)(x-6) - (1/30)(x-4)(x-6)(x-5)\n",
        "\n",
        "p(x) = (-1/30)*x^3 + (3/2)*x^2 -(142/15)*x + 18\n",
        "\n",
        "We find the same  polynomial.\n"
      ]
    },
    {
      "cell_type": "code",
      "metadata": {
        "id": "TdOWwTZM5q_l",
        "colab_type": "code",
        "outputId": "7ad999e5-971d-447c-a9b3-7dfc89f05c8c",
        "colab": {
          "base_uri": "https://localhost:8080/",
          "height": 173
        }
      },
      "source": [
        "## POLYNOMIAL INTERPOLATION ##\n",
        "\n",
        "\n",
        "# Lagrange Polynomials in Python\n",
        "import numpy as np\n",
        "\n",
        "def  lagrange(x,i,xm):\n",
        "  \"\"\"\n",
        "  Evaluates  the i-th  Lagrange  polynomial  at point x \n",
        "  based on grid  data xm\n",
        "  \"\"\"\n",
        "  n=len(xm)-1\n",
        "  y=1.\n",
        "  for j in  range(n+1):\n",
        "    if i!=j:\n",
        "      y*=(x-xm[j])/(xm[i]-xm[j])\n",
        "  return y\n",
        "\n",
        "\n",
        "def  interpolation(x,xm ,ym):\n",
        "  n=len(xm)-1\n",
        "  lagrpoly=np.array([lagrange(x,i,xm) for i in range(n+1)])\n",
        "  y = np.dot(ym ,lagrpoly)\n",
        "  return y\n",
        "\n",
        "#xm = np.array([1,2,3,4,5,6])\n",
        "#ym = np.array([-3,0,-1,2,1,4])\n",
        "#xplot = np.linspace(0.9,6.1,100)\n",
        "#interpolation of sin(x)\n",
        "#xm = np.array([0,2,4,6,8,10])\n",
        "#ym = np.array([0,0.909,-0.75,-0.279,0.989,-0.544])\n",
        "n = input('Number of nods (between 3 and 20): ')\n",
        "n = int(n)\n",
        "m = 10/(n-1)\n",
        "xm = np.zeros((n), dtype='f')\n",
        "ym = np.zeros((n), dtype='f')\n",
        "for i in range(n):\n",
        "  xm[i] = float(-m + (i+1)*m)\n",
        "  ym[i] = np.sin(xm[i])\n",
        "xplot = np.linspace(0,10,100)\n",
        "\n",
        "yplot = interpolation(xplot, xm, ym)\n",
        "\n",
        "print('X dataponts: ',xm)\n",
        "print('Y dataponts: ',ym)\n",
        "\n"
      ],
      "execution_count": 32,
      "outputs": [
        {
          "output_type": "stream",
          "text": [
            "Number of nods (between 3 and 20): 20\n",
            "X dataponts:  [ 0.         0.5263158  1.0526316  1.5789474  2.1052632  2.631579\n",
            "  3.1578948  3.6842105  4.2105265  4.736842   5.263158   5.7894735\n",
            "  6.3157897  6.8421054  7.368421   7.894737   8.421053   8.947369\n",
            "  9.473684  10.       ]\n",
            "Y dataponts:  [ 0.          0.50235116  0.86872965  0.9999668   0.8605403   0.48818922\n",
            " -0.01630147 -0.5163796  -0.8766881  -0.999701   -0.85212237 -0.47389767\n",
            "  0.03259861  0.53027093  0.8844135   0.99916965  0.8434778   0.45947972\n",
            " -0.04888686 -0.5440211 ]\n"
          ],
          "name": "stdout"
        }
      ]
    },
    {
      "cell_type": "code",
      "metadata": {
        "id": "L7FgPvUr5-0D",
        "colab_type": "code",
        "outputId": "2427cf2c-de71-4e9e-b735-98988d38d803",
        "colab": {
          "base_uri": "https://localhost:8080/",
          "height": 265
        }
      },
      "source": [
        "## PLOT THE RESULTS ##\n",
        "\n",
        "\n",
        "def polyplot(xm, ym, xplot, yplot):\n",
        "  # Import pyplot as plt\n",
        "  import matplotlib.pyplot as plt\n",
        "\n",
        "  #plot the function\n",
        "\n",
        "  plt.plot(xplot, yplot, lw=2, label='interpolation')\n",
        "\n",
        "  plt.plot(xm, ym, 'o', label='points')\n",
        "\n",
        "  plt.legend()\n",
        "  plt.show()\n",
        "\n",
        "polyplot(xm, ym, xplot, yplot)"
      ],
      "execution_count": 33,
      "outputs": [
        {
          "output_type": "display_data",
          "data": {
            "image/png": "[encoded data removed]",
            "text/plain": [
              "<Figure size 432x288 with 1 Axes>"
            ]
          },
          "metadata": {
            "tags": [],
            "needs_background": "light"
          }
        }
      ]
    },
    {
      "cell_type": "code",
      "metadata": {
        "id": "KatM7aNh6E0E",
        "colab_type": "code",
        "outputId": "516c1926-11ce-4709-a24a-90eb26f913ee",
        "colab": {
          "base_uri": "https://localhost:8080/",
          "height": 52
        }
      },
      "source": [
        "## NEWTON BASE ##\n",
        "\n",
        "\n",
        "def poly_newton_coefficient(x, y):\n",
        "    \"\"\"\n",
        "    x: list or np array contanining x data points\n",
        "    y: list or np array contanining y data points\n",
        "    \"\"\"\n",
        "\n",
        "    m = len(x)\n",
        "\n",
        "    x = np.copy(x)\n",
        "    a = np.copy(y).astype(float)\n",
        "\n",
        "    for k in range(1, m):\n",
        "        for i in range(m-1, k-1, -1):\n",
        "            a[i] = float(a[i]-a[i-1])/float(x[i]-x[i-k])\n",
        "            \n",
        "    return a\n",
        "\n",
        "def newton_interpolation(x, x_data, y_data):\n",
        "    \"\"\"\n",
        "    x: evaluation point(s)\n",
        "    x_data: data points at x\n",
        "    y_data: data points at y\n",
        "     \"\"\"\n",
        "    a = poly_newton_coefficient(x_data, y_data)\n",
        "    n = len(x_data) - 1  # Degree of polynomial\n",
        "    p = a[n]\n",
        "    print(\"array a = \",a)\n",
        "\n",
        "    for k in range(1, n + 1):\n",
        "        p = a[n - k] + (x - x_data[n - k])*p\n",
        "\n",
        "    return p\n",
        "\n",
        "\n",
        "\n",
        "#xm = np.array([-1,0,1,2])\n",
        "#ym = np.array([5,1,1,11])\n",
        "#xplot = np.linspace(-1.1,2.1,100)\n",
        "#xplot = np.array([-1,0,1,2])\n",
        "\n",
        "#xm = np.array([1,2,3,4,5,6])\n",
        "#ym = np.array([-3,0,-1,2,1,4])\n",
        "#xplot = np.linspace(0.9,6.1,100)\n",
        "#interpolation of sin(x)\n",
        "#xm = np.array([0,2,4,6,8,10])\n",
        "#ym = np.array([0,0.909,-0.75,-0.279,0.989,-0.544])\n",
        "n = input('Number of nods (between 3 and 20): ')\n",
        "n = int(n)\n",
        "m = 10/(n-1)\n",
        "xm = np.zeros((n), dtype='f')\n",
        "ym = np.zeros((n), dtype='f')\n",
        "zeros = np.zeros((n), dtype='f')\n",
        "for i in range(n):\n",
        "  xm[i] = float(-m + (i+1)*m)\n",
        "  ym[i] = np.sin(xm[i])\n",
        "\n",
        "xplot = np.linspace(0,10,100)\n",
        "yplot = newton_interpolation(xplot, xm, ym)\n",
        "\n"
      ],
      "execution_count": 37,
      "outputs": [
        {
          "output_type": "stream",
          "text": [
            "Number of nods (between 3 and 20): 6\n",
            "array a =  [ 0.          0.4546487  -0.32192466  0.09831009 -0.01580986  0.00099728]\n"
          ],
          "name": "stdout"
        }
      ]
    },
    {
      "cell_type": "code",
      "metadata": {
        "id": "rGO9KZzX6WQ1",
        "colab_type": "code",
        "outputId": "7ed78b25-6397-4a49-b6a8-42eec0329e03",
        "colab": {
          "base_uri": "https://localhost:8080/",
          "height": 266
        }
      },
      "source": [
        "## PLOT THE RESULTS ##\n",
        "\n",
        "\n",
        "polyplot(xm, ym, xplot, yplot)\n"
      ],
      "execution_count": 38,
      "outputs": [
        {
          "output_type": "display_data",
          "data": {
            "image/png": "[encoded data removed]",
            "text/plain": [
              "<Figure size 432x288 with 1 Axes>"
            ]
          },
          "metadata": {
            "tags": [],
            "needs_background": "light"
          }
        }
      ]
    },
    {
      "cell_type": "code",
      "metadata": {
        "id": "Gw4pN__CFIav",
        "colab_type": "code",
        "colab": {
          "base_uri": "https://localhost:8080/",
          "height": 265
        },
        "outputId": "c3b2b5aa-4a53-4b24-804d-a03efec69375"
      },
      "source": [
        "## PLOT THE ERROR ##\n",
        "import matplotlib.pyplot as plt\n",
        "xplot = np.linspace(0,10,100)\n",
        "y1 = np.sin(xplot)\n",
        "\n",
        "plt.plot(xplot, abs(yplot-y1), lw=2, label='Error')\n",
        "\n",
        "plt.plot(xm, zeros, 'o', label='points')\n",
        "\n",
        "plt.legend()\n",
        "plt.show()\n",
        "\n",
        "\n"
      ],
      "execution_count": 42,
      "outputs": [
        {
          "output_type": "display_data",
          "data": {
            "image/png": "[encoded data removed]",
            "text/plain": [
              "<Figure size 432x288 with 1 Axes>"
            ]
          },
          "metadata": {
            "tags": [],
            "needs_background": "light"
          }
        }
      ]
    },
    {
      "cell_type": "markdown",
      "metadata": {
        "id": "2Wne3yXuYzNH",
        "colab_type": "text"
      },
      "source": [
        "The error is smaller where there is nodes, it's logic."
      ]
    }
  ]
}