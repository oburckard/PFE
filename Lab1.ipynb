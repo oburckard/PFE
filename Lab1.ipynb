{
  "nbformat": 4,
  "nbformat_minor": 0,
  "metadata": {
    "colab": {
      "name": "Lab1.ipynb",
      "provenance": [],
      "collapsed_sections": [],
      "authorship_tag": "ABX9TyMnat/h3sJhr8m1D7lMJ/pi",
      "include_colab_link": true
    },
    "kernelspec": {
      "name": "python3",
      "display_name": "Python 3"
    }
  },
  "cells": [
    {
      "cell_type": "markdown",
      "metadata": {
        "id": "view-in-github",
        "colab_type": "text"
      },
      "source": [
        "<a href=\"https://colab.research.google.com/github/oburckard/MyRepo/blob/master/Lab1.ipynb\" target=\"_parent\"><img src=\"https://colab.research.google.com/assets/colab-badge.svg\" alt=\"Open In Colab\"/></a>"
      ]
    },
    {
      "cell_type": "code",
      "metadata": {
        "id": "c7zKgTuD6Ybl",
        "colab_type": "code",
        "outputId": "96b7df94-00c9-4036-8275-05fe3b194300",
        "colab": {
          "base_uri": "https://localhost:8080/",
          "height": 156
        }
      },
      "source": [
        "a = [1, 1, 2, 3, 5, 8, 13, 21, 34, 55, 89]\n",
        "\n",
        "for i in a :\n",
        "  if i < 5 :\n",
        "    print(i);\n",
        "\n",
        "#######\n",
        "one = 1\n",
        "two = 1\n",
        "print(\"How many numbers?\")\n",
        "n = input()\n",
        "if (int(n)==1):\n",
        "  print(one);\n",
        "if(int(n)>=2):\n",
        "  print(one);\n",
        "  print(two);\n",
        "\n",
        "for i in range(int(n)-2):\n",
        "  a = one + two;\n",
        "  one = two;\n",
        "  two = a;\n",
        "  print(a);\n",
        "\n",
        "\n",
        "\n",
        " \n",
        "\n",
        "\n",
        "\n"
      ],
      "execution_count": 5,
      "outputs": [
        {
          "output_type": "stream",
          "text": [
            "1\n",
            "1\n",
            "2\n",
            "3\n",
            "How many numbers?\n",
            "2\n",
            "1\n",
            "1\n"
          ],
          "name": "stdout"
        }
      ]
    },
    {
      "cell_type": "code",
      "metadata": {
        "id": "wMeJlyKY58p7",
        "colab_type": "code",
        "colab": {
          "base_uri": "https://localhost:8080/",
          "height": 34
        },
        "outputId": "c1bee39c-012b-4135-8d1d-9e5936aa5b40"
      },
      "source": [
        "def f(a):\n",
        "  b = []  \n",
        "  b.append(a[0])\n",
        " # for j in range(len(a)):\n",
        "  for i in a:\n",
        "    bool = False\n",
        "    for k in b:\n",
        "      if (i==k):\n",
        "        bool = True\n",
        "    if (bool==False):\n",
        "      b.append(i)\n",
        "        \n",
        "\n",
        "  return b\n",
        " \n",
        "a = [1,2,3,4,4,2,2,2,2,3,2,1]\n",
        "f(a)  "
      ],
      "execution_count": 6,
      "outputs": [
        {
          "output_type": "execute_result",
          "data": {
            "text/plain": [
              "[1, 2, 3, 4]"
            ]
          },
          "metadata": {
            "tags": []
          },
          "execution_count": 6
        }
      ]
    }
  ]
}