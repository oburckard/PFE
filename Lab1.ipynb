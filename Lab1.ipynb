{
  "nbformat": 4,
  "nbformat_minor": 0,
  "metadata": {
    "colab": {
      "name": "Lab1.ipynb",
      "provenance": [],
      "collapsed_sections": [],
      "authorship_tag": "ABX9TyM66e8DyNg3tut9ZVZw7Ik+",
      "include_colab_link": true
    },
    "kernelspec": {
      "name": "python3",
      "display_name": "Python 3"
    }
  },
  "cells": [
    {
      "cell_type": "markdown",
      "metadata": {
        "id": "view-in-github",
        "colab_type": "text"
      },
      "source": [
        "<a href=\"https://colab.research.google.com/github/oburckard/MyRepo/blob/master/Lab1.ipynb\" target=\"_parent\"><img src=\"https://colab.research.google.com/assets/colab-badge.svg\" alt=\"Open In Colab\"/></a>"
      ]
    },
    {
      "cell_type": "code",
      "metadata": {
        "id": "c7zKgTuD6Ybl",
        "colab_type": "code",
        "outputId": "5984948c-c4a0-41f9-f7f5-da5f18a7dfd6",
        "colab": {
          "base_uri": "https://localhost:8080/",
          "height": 243
        }
      },
      "source": [
        "a = [1, 1, 2, 3, 5, 8, 13, 21, 34, 55, 89]\n",
        "\n",
        "for i in a :\n",
        "  if i < 5 :\n",
        "    print(i);\n",
        "\n",
        "#######\n",
        "one = 1\n",
        "two = 1\n",
        "print(\"How many numbers?\")\n",
        "n = input()\n",
        "if (int(n)==1):\n",
        "  print(one);\n",
        "if(int(n)>=2):\n",
        "  print(one);\n",
        "  print(two);\n",
        "\n",
        "for i in range(int(n)-2):\n",
        "  a = one + two;\n",
        "  one = two;\n",
        "  two = a;\n",
        "  print(a);\n",
        "\n",
        "\n",
        "\n",
        " \n",
        "\n",
        "\n",
        "\n"
      ],
      "execution_count": 9,
      "outputs": [
        {
          "output_type": "stream",
          "text": [
            "1\n",
            "1\n",
            "2\n",
            "3\n",
            "How many numbers?\n",
            "7\n",
            "1\n",
            "1\n",
            "2\n",
            "3\n",
            "5\n",
            "8\n",
            "13\n"
          ],
          "name": "stdout"
        }
      ]
    },
    {
      "cell_type": "code",
      "metadata": {
        "id": "fqGPUjeZ9wq8",
        "colab_type": "code",
        "colab": {
          "base_uri": "https://localhost:8080/",
          "height": 34
        },
        "outputId": "8d2ab165-6999-493b-8aea-30a4291628ac"
      },
      "source": [
        "\n",
        "\n",
        "def f(a):\n",
        "  b = []  \n",
        "  b.append(a[0])\n",
        " \n",
        "  for i in a:\n",
        "    bool = False\n",
        "    for k in b:\n",
        "      if (i==k):\n",
        "        bool = True\n",
        "    if (bool==False):\n",
        "      b.append(i)\n",
        "        \n",
        "\n",
        "  return b\n",
        " \n",
        "a = [1,2,3,4,4,2,2,2,2,3,2,1]\n",
        "f(a)\n",
        "\n"
      ],
      "execution_count": 8,
      "outputs": [
        {
          "output_type": "execute_result",
          "data": {
            "text/plain": [
              "[1, 2, 3, 4]"
            ]
          },
          "metadata": {
            "tags": []
          },
          "execution_count": 8
        }
      ]
    }
  ]
}