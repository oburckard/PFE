{
  "nbformat": 4,
  "nbformat_minor": 0,
  "metadata": {
    "colab": {
      "name": "Lab1.ipynb",
      "provenance": [],
      "collapsed_sections": [],
      "authorship_tag": "ABX9TyOAwZQDpRiRYwnWjqQvKliS",
      "include_colab_link": true
    },
    "kernelspec": {
      "name": "python3",
      "display_name": "Python 3"
    }
  },
  "cells": [
    {
      "cell_type": "markdown",
      "metadata": {
        "id": "view-in-github",
        "colab_type": "text"
      },
      "source": [
        "<a href=\"https://colab.research.google.com/github/oburckard/MyRepo/blob/master/Lab1.ipynb\" target=\"_parent\"><img src=\"https://colab.research.google.com/assets/colab-badge.svg\" alt=\"Open In Colab\"/></a>"
      ]
    },
    {
      "cell_type": "code",
      "metadata": {
        "id": "c7zKgTuD6Ybl",
        "colab_type": "code",
        "outputId": "2f789960-ec75-417e-9048-15c0e7495299",
        "colab": {
          "base_uri": "https://localhost:8080/",
          "height": 208
        }
      },
      "source": [
        "a = [1, 1, 2, 3, 5, 8, 13, 21, 34, 55, 89]\n",
        "\n",
        "for i in a :\n",
        "  if i < 5 :\n",
        "    print(i);\n",
        "\n",
        "#######\n",
        "one = 1\n",
        "two = 1\n",
        "print(\"How many numbers?\")\n",
        "n = input()\n",
        "if (int(n)==1):\n",
        "  print(one);\n",
        "if(int(n)>=2):\n",
        "  print(one);\n",
        "  print(two);\n",
        "\n",
        "for i in range(int(n)-2):\n",
        "  a = one + two;\n",
        "  one = two;\n",
        "  two = a;\n",
        "  print(a);\n",
        "\n"
      ],
      "execution_count": 1,
      "outputs": [
        {
          "output_type": "stream",
          "text": [
            "1\n",
            "1\n",
            "2\n",
            "3\n",
            "How many numbers?\n",
            "5\n",
            "1\n",
            "1\n",
            "2\n",
            "3\n",
            "5\n"
          ],
          "name": "stdout"
        }
      ]
    }
  ]
}