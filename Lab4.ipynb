{
  "nbformat": 4,
  "nbformat_minor": 0,
  "metadata": {
    "colab": {
      "name": "Lab4.ipynb",
      "provenance": [],
      "collapsed_sections": [],
      "authorship_tag": "ABX9TyM0yQTq94KDg61913nd0pZ+",
      "include_colab_link": true
    },
    "kernelspec": {
      "name": "python3",
      "display_name": "Python 3"
    }
  },
  "cells": [
    {
      "cell_type": "markdown",
      "metadata": {
        "id": "view-in-github",
        "colab_type": "text"
      },
      "source": [
        "<a href=\"https://colab.research.google.com/github/oburckard/MyRepo/blob/master/Lab4.ipynb\" target=\"_parent\"><img src=\"https://colab.research.google.com/assets/colab-badge.svg\" alt=\"Open In Colab\"/></a>"
      ]
    },
    {
      "cell_type": "code",
      "metadata": {
        "id": "LZePt9PYSqXh",
        "colab_type": "code",
        "outputId": "72631fc9-c712-409a-9f37-8819b93a6b1b",
        "colab": {
          "base_uri": "https://localhost:8080/",
          "height": 486
        }
      },
      "source": [
        "###BISECTION METHOD###\n",
        "import math\n",
        "# Defining Function\n",
        "def f(x):\n",
        "  return x**3-5*x-9\n",
        "  #return x*math.sin(4*x)\n",
        "\n",
        "# Implementing Bisection Method\n",
        "def bisection(x0,x1,e,ex,nmax):\n",
        "  step = 1\n",
        "  print('\\n\\n*** BISECTION METHOD IMPLEMENTATION ***')\n",
        "  condition = True\n",
        "  while condition:\n",
        "    x2 = (x0 + x1)/2\n",
        "    print('Iteration-%d, x2 = %0.6f and f(x2) = %0.6f' % (step, x2, f(x2)))\n",
        "\n",
        "    if f(x0) * f(x2) < 0:\n",
        "      x1 = x2\n",
        "    else:\n",
        "      x0 = x2\n",
        "\n",
        "    step = step + 1\n",
        "\n",
        "    condition1 = step<nmax\n",
        "    condition2 = abs(x1-x0)>ex\n",
        "    condition3 = abs(f(x2)) > e\n",
        "    condition = condition1 and condition2 and condition3\n",
        "    \n",
        "  print('\\nRequired Root is : %0.8f' % x2)\n",
        "\n",
        "\n",
        "# Input Section\n",
        "x0 = input('First Guess: ')\n",
        "x1 = input('Second Guess: ')\n",
        "e = input('Tolerable Error: ')\n",
        "ex = input('Tolerable error x TOLX: ')\n",
        "nmax = input('Max. number of iterations')\n",
        "\n",
        "# Converting input to float\n",
        "x0 = float(x0)\n",
        "x1 = float(x1)\n",
        "e = float(e)\n",
        "ex = float(ex)\n",
        "\n",
        "# Converting N to intenger\n",
        "nmax = int(nmax)\n",
        "\n",
        "#Note: You can combine above two section like this\n",
        "# x0 = float(input('First Guess: '))\n",
        "# x1 = float(input('Second Guess: '))\n",
        "# e = float(input('Tolerable Error: '))\n",
        "\n",
        "# Checking Correctness of initial guess values and bisecting\n",
        "if f(x0) * f(x1) > 0.0:\n",
        "  print('Given guess values do not bracket the root.')\n",
        "  print('Try Again with different guess values.')\n",
        "else:\n",
        "  bisection(x0,x1,e,ex,nmax)\n"
      ],
      "execution_count": 0,
      "outputs": [
        {
          "output_type": "stream",
          "text": [
            "First Guess: 2\n",
            "Second Guess: 3\n",
            "Tolerable Error: 0.000001\n",
            "Tolerable error x TOLX: 0.00001\n",
            "Max. number of iterations20\n",
            "\n",
            "\n",
            "*** BISECTION METHOD IMPLEMENTATION ***\n",
            "Iteration-1, x2 = 2.500000 and f(x2) = -5.875000\n",
            "Iteration-2, x2 = 2.750000 and f(x2) = -1.953125\n",
            "Iteration-3, x2 = 2.875000 and f(x2) = 0.388672\n",
            "Iteration-4, x2 = 2.812500 and f(x2) = -0.815186\n",
            "Iteration-5, x2 = 2.843750 and f(x2) = -0.221588\n",
            "Iteration-6, x2 = 2.859375 and f(x2) = 0.081448\n",
            "Iteration-7, x2 = 2.851562 and f(x2) = -0.070592\n",
            "Iteration-8, x2 = 2.855469 and f(x2) = 0.005297\n",
            "Iteration-9, x2 = 2.853516 and f(x2) = -0.032680\n",
            "Iteration-10, x2 = 2.854492 and f(x2) = -0.013700\n",
            "Iteration-11, x2 = 2.854980 and f(x2) = -0.004204\n",
            "Iteration-12, x2 = 2.855225 and f(x2) = 0.000546\n",
            "Iteration-13, x2 = 2.855103 and f(x2) = -0.001829\n",
            "Iteration-14, x2 = 2.855164 and f(x2) = -0.000641\n",
            "Iteration-15, x2 = 2.855194 and f(x2) = -0.000048\n",
            "Iteration-16, x2 = 2.855209 and f(x2) = 0.000249\n",
            "Iteration-17, x2 = 2.855202 and f(x2) = 0.000101\n",
            "\n",
            "Required Root is : 2.85520172\n"
          ],
          "name": "stdout"
        }
      ]
    },
    {
      "cell_type": "code",
      "metadata": {
        "id": "plX1wEq7YpmB",
        "colab_type": "code",
        "outputId": "c8084a3b-f50e-4537-96d6-69dda957e301",
        "colab": {
          "base_uri": "https://localhost:8080/",
          "height": 278
        }
      },
      "source": [
        "### FIXED POINT IERATION METHOD ###\n",
        "\n",
        "# Importing math to use sqrt function\n",
        "import math\n",
        "\n",
        "def f(x):\n",
        "  return x*x*x + x*x -1\n",
        "\n",
        "# Re-writing f(x)=0 to x = g(x)\n",
        "def g(x):\n",
        "  return 1/math.sqrt(1+x)\n",
        "\n",
        "# Implementing Fixed Point Iteration Method\n",
        "def fixedPointIteration(x0, e, ex, nmax):\n",
        "  print('\\n\\n*** FIXED POINT ITERATION ***')\n",
        "  step = 1\n",
        "  flag = 1\n",
        "  condition = True\n",
        "  while condition:\n",
        "    x1 = g(x0)\n",
        "    print('Iteration-%d, x1 = %0.6f and f(x1) = %0.6f' % (step, x1, f(x1)))\n",
        "    temp=x0\n",
        "    x0 = x1\n",
        "    step = step + 1\n",
        "    #if step > nmax:\n",
        "    # flag=0\n",
        "    #  break  \n",
        "    \n",
        "    condition1 = step<nmax\n",
        "    condition2 = abs(x1-temp)>ex\n",
        "    condition3 = abs(f(x1)) > e\n",
        "    condition = condition1 and condition2 and condition3\n",
        "\n",
        "  if flag==1:\n",
        "    print('\\nRequired root is: %0.8f' % x1)\n",
        "  else:\n",
        "    print('\\nNot Convergent.')\n",
        "\n",
        "# Input Section\n",
        "x0 = input('Enter Guess: ')\n",
        "e = input('Tolerable Error: ')\n",
        "ex = input('Tolerable error x TOLX: ')\n",
        "nmax = input('Maximum Step: ')\n",
        "\n",
        "# Converting x0 and e to float\n",
        "x0 = float(x0)\n",
        "e = float(e)\n",
        "ex = float(ex)\n",
        "\n",
        "# Converting N to intenger\n",
        "nmax = int(nmax)\n",
        "\n",
        "#Note: You can combine above three section like this\n",
        "# x0 = float(input('Enter Guess: '))\n",
        "# e = float(input('Tolerable Error: '))\n",
        "# N = int(input('Maximum Step: '))\n",
        "# Starting fixed point iteration\n",
        "fixedPointIteration(x0,e,ex,nmax)"
      ],
      "execution_count": 0,
      "outputs": [
        {
          "output_type": "stream",
          "text": [
            "Enter Guess: 2\n",
            "Tolerable Error: 0.001\n",
            "Tolerable error x TOLX: 0.001\n",
            "Maximum Step: 9\n",
            "\n",
            "\n",
            "*** FIXED POINT ITERATION ***\n",
            "Iteration-1, x1 = 0.577350 and f(x1) = -0.474217\n",
            "Iteration-2, x1 = 0.796225 and f(x1) = 0.138761\n",
            "Iteration-3, x1 = 0.746139 and f(x1) = -0.027884\n",
            "Iteration-4, x1 = 0.756764 and f(x1) = 0.006085\n",
            "Iteration-5, x1 = 0.754472 and f(x1) = -0.001305\n",
            "Iteration-6, x1 = 0.754965 and f(x1) = 0.000281\n",
            "\n",
            "Required root is: 0.75496488\n"
          ],
          "name": "stdout"
        }
      ]
    },
    {
      "cell_type": "code",
      "metadata": {
        "id": "1wEVXIKeZpiY",
        "colab_type": "code",
        "outputId": "0015451a-fd76-46fe-f5a8-0ae3c7fbda5e",
        "colab": {
          "base_uri": "https://localhost:8080/",
          "height": 243
        }
      },
      "source": [
        "### Newton's method algorithm ###\n",
        "\n",
        "# Defining Function\n",
        "def f(x):\n",
        "  return x**3 - 5*x - 9\n",
        "  #return x*math.sin(4*x)\n",
        "\n",
        "# Defining derivative of function\n",
        "def g(x):\n",
        "  return 3*x**2 - 5\n",
        "  #return math.sin(4*x)+4*x*cos(4*x)\n",
        "  \n",
        "# Implementing Newton Method\n",
        "def newton(x0,e,ex,nmax):\n",
        "  print('\\n\\n*** NEWTON METHOD IMPLEMENTATION ***')\n",
        "  step = 1\n",
        "  flag = 1\n",
        "  condition = True\n",
        "  while condition:\n",
        "    if g(x0) == 0.0:\n",
        "      print('Divide by zero error!')\n",
        "      break\n",
        "\n",
        "    x1 = x0 - f(x0)/g(x0)\n",
        "    print('Iteration-%d, x1 = %0.6f and f(x1) = %0.6f' % (step, x1, f(x1)))\n",
        "    temp=x0\n",
        "    x0 = x1\n",
        "    step = step + 1\n",
        "\n",
        "    #if step > nmax:\n",
        "    #  flag = 0\n",
        "    #  break\n",
        "\n",
        "    condition1 = step<nmax\n",
        "    condition2 = abs(x1-temp)>ex\n",
        "    condition3 = abs(f(x1)) > e\n",
        "    condition = condition1 and condition2 and condition3\n",
        "\n",
        "  if flag==1:\n",
        "    print('\\nRequired root is: %0.8f' % x1)\n",
        "  else:\n",
        "    print('\\nNot Convergent.')\n",
        "    \n",
        "# Input Section\n",
        "x0 = input('Enter Guess: ')\n",
        "e = input('Tolerable Error: ')\n",
        "ex = input('Tolerable error x TOLX: ')\n",
        "nmax = input('Maximum Step: ')\n",
        "\n",
        "# Converting x0 and e to float\n",
        "x0 = float(x0)\n",
        "e = float(e)\n",
        "ex = float(ex)\n",
        "\n",
        "# Converting N to integer\n",
        "nmax = int(nmax)\n",
        "#Note: You can combine above three section like this\n",
        "# x0 = float(input('Enter Guess: '))\n",
        "# e = float(input('Tolerable Error: '))\n",
        "# N = int(input('Maximum Step: '))\n",
        "# Starting Newton Method\n",
        "newton(x0,e,ex,nmax)\n"
      ],
      "execution_count": 0,
      "outputs": [
        {
          "output_type": "stream",
          "text": [
            "Enter Guess: 2\n",
            "Tolerable Error: 0.001\n",
            "Tolerable error x TOLX: 0.001\n",
            "Maximum Step: 9\n",
            "\n",
            "\n",
            "*** NEWTON METHOD IMPLEMENTATION ***\n",
            "Iteration-1, x1 = 3.571429 and f(x1) = 18.696793\n",
            "Iteration-2, x1 = 3.009378 and f(x1) = 3.207103\n",
            "Iteration-3, x1 = 2.864712 and f(x1) = 0.185915\n",
            "Iteration-4, x1 = 2.855236 and f(x1) = 0.000771\n",
            "\n",
            "Required root is: 2.85523616\n"
          ],
          "name": "stdout"
        }
      ]
    },
    {
      "cell_type": "code",
      "metadata": {
        "id": "3lTRY2IGe3_g",
        "colab_type": "code",
        "outputId": "08f95ab0-709c-492f-ccec-2b81abfa0692",
        "colab": {
          "base_uri": "https://localhost:8080/",
          "height": 260
        }
      },
      "source": [
        "### Secant method ###\n",
        "\n",
        "# Defining Function\n",
        "def f(x):\n",
        "  return x**3 - 5*x - 9\n",
        "  #return x*math.sin(4*x)\n",
        "  \n",
        "  \n",
        "# Implementing Secant Method\n",
        "def secant(x0,x1,e,ex,nmax):\n",
        "  print('\\n\\n*** SECANT METHOD IMPLEMENTATION ***')\n",
        "  step = 1\n",
        "  condition = True\n",
        "  while condition:\n",
        "    if f(x0) == f(x1):\n",
        "      print('Divide by zero error!')\n",
        "      break\n",
        "\n",
        "    x2 = x0 - (x1-x0)*f(x0)/( f(x1) - f(x0) )\n",
        "    print('Iteration-%d, x2 = %0.6f and f(x2) = %0.6f' % (step, x2, f(x2)))\n",
        "    x0 = x1\n",
        "    x1 = x2\n",
        "    step = step + 1\n",
        "\n",
        "    #if step > nmax:\n",
        "     # print('Not Convergent!')\n",
        "     # break\n",
        "\n",
        "    condition1 = step<nmax\n",
        "    condition2 = abs(x1-x0)>ex\n",
        "    condition3 = abs(f(x2)) > e\n",
        "    condition = condition1 and condition2 and condition3\n",
        "\n",
        "  print('\\n Required root is: %0.8f' % x2)\n",
        "\n",
        "# Input Section\n",
        "x0 = input('Enter First Guess: ')\n",
        "x1 = input('Enter Second Guess: ')\n",
        "e = input('Tolerable Error: ')\n",
        "ex = input('Tolerable error x TOLX: ')\n",
        "nmax = input('Maximum Step: ')\n",
        "\n",
        "# Converting x0 and e to float\n",
        "x0 = float(x0)\n",
        "x1 = float(x1)\n",
        "e = float(e)\n",
        "ex = float(ex)\n",
        "\n",
        "# Converting N to integer\n",
        "nmax = int(nmax)\n",
        "\n",
        "#Note: You can combine above three section like this\n",
        "# x0 = float(input('Enter First Guess: '))\n",
        "# x1 = float(input('Enter Second Guess: '))\n",
        "# e = float(input('Tolerable Error: '))\n",
        "# N = int(input('Maximum Step: '))\n",
        "# Starting Secant Method\n",
        "secant(x0,x1,e,ex,nmax)"
      ],
      "execution_count": 0,
      "outputs": [
        {
          "output_type": "stream",
          "text": [
            "Enter First Guess: 2\n",
            "Enter Second Guess: 3\n",
            "Tolerable Error: 0.001\n",
            "Tolerable error x TOLX: 0.001\n",
            "Maximum Step: 9\n",
            "\n",
            "\n",
            "*** SECANT METHOD IMPLEMENTATION ***\n",
            "Iteration-1, x2 = 2.785714 and f(x2) = -1.310860\n",
            "Iteration-2, x2 = 2.850875 and f(x2) = -0.083923\n",
            "Iteration-3, x2 = 2.855332 and f(x2) = 0.002635\n",
            "Iteration-4, x2 = 2.855196 and f(x2) = -0.000005\n",
            "\n",
            " Required root is: 2.85519628\n"
          ],
          "name": "stdout"
        }
      ]
    },
    {
      "cell_type": "code",
      "metadata": {
        "id": "IZm4S8P-Lu1h",
        "colab_type": "code",
        "outputId": "a3702c1c-7123-47ce-a243-6f801e1398fe",
        "colab": {
          "base_uri": "https://localhost:8080/",
          "height": 296
        }
      },
      "source": [
        "import numpy as np\n",
        "import matplotlib.pyplot as plot\n",
        "time = np.arange(-2,2,0.01)\n",
        "amplitude_sin = time*np.sin(4*time)\n",
        "plot.plot(time, amplitude_sin)\n",
        "plot.xlabel('Time')\n",
        "plot.ylabel('Amplitude = time*sin(4*time)')\n",
        "plot.axhline(y=0, color='orange')"
      ],
      "execution_count": 0,
      "outputs": [
        {
          "output_type": "execute_result",
          "data": {
            "text/plain": [
              "<matplotlib.lines.Line2D at 0x7f14692373c8>"
            ]
          },
          "metadata": {
            "tags": []
          },
          "execution_count": 35
        },
        {
          "output_type": "display_data",
          "data": {
            "image/png": "[encoded data removed]",
            "text/plain": [
              "<Figure size 432x288 with 1 Axes>"
            ]
          },
          "metadata": {
            "tags": []
          }
        }
      ]
    },
    {
      "cell_type": "code",
      "metadata": {
        "id": "djKr3yN8R9Ev",
        "colab_type": "code",
        "outputId": "2228e0d3-ed08-4aaf-e802-98bffb801866",
        "colab": {
          "base_uri": "https://localhost:8080/",
          "height": 1000
        }
      },
      "source": [
        "# Import pyplot as plt\n",
        "import matplotlib.pyplot as plt\n",
        "\n",
        "# Defining Function\n",
        "import numpy as np\n",
        "\n",
        "\n",
        "def f(x):\n",
        "   return np.sin(4*x)*x\n",
        "\n",
        "# Defining derivative of function\n",
        "def g(x):\n",
        "   return np.sin(4*x)+4*np.cos(4*x)*x\n",
        "\n",
        "# Implementing Newton Method\n",
        "def newton(x0,e,N):\n",
        "   print('\\n\\n*** NEWTON METHOD IMPLEMENTATION ***')\n",
        "   step = 1\n",
        "   flag = 1\n",
        "   condition = True\n",
        "   while condition:\n",
        "      if g(x0) == 0.0:\n",
        "         print('Divide by zero error!')\n",
        "         break\n",
        "      x1 = x0 - f(x0)/g(x0)\n",
        "      print('Iteration-%d, x1 = %0.6f and f(x1) = %0.6f' % (step, x1, f(x1)))\n",
        "      x0 = x1\n",
        "      step = step + 1\n",
        "      if step > N:\n",
        "         flag = 0\n",
        "         break\n",
        "      condition = abs(f(x1)) > e\n",
        "      if flag==1:\n",
        "         print('\\nRequired root is: %0.8f' % x1)\n",
        "      else:\n",
        "         print('\\nNot Convergent.')\n",
        "   return x1      \n",
        "\n",
        "for i in range(4):        \n",
        "  # Input Section\n",
        "  x0 = input('Enter Guess: ')\n",
        "  e = input('Tolerable Error: ')\n",
        "  N = input('Maximum Step: ')\n",
        "  # Converting x0 and e to float\n",
        "  x0 = float(x0)\n",
        "  e = float(e)\n",
        "  # Converting N to integer\n",
        "  N = int(N)\n",
        "  #Note: You can combine above three section like this\n",
        "  # x0 = float(input('Enter Guess: '))\n",
        "  # e = float(input('Tolerable Error: '))\n",
        "  # N = int(input('Maximum Step: '))\n",
        "  # Starting Newton Method\n",
        "  x1 = newton(x0,e,N)\n",
        "\n",
        "  #plot function\n",
        "\n",
        "  plt.subplot(2,2,i+1)\n",
        "  t = np.arange(min(x1,x0)-2, max(x1,x0)+2, 0.01)\n",
        "\n",
        "  #plot the function\n",
        "  ssin = f(t)\n",
        "  zero = [0] * len(t)\n",
        "  plt.plot(t, ssin, lw=2, label='function')\n",
        "  plt.plot(t, zero, lw=3)\n",
        "\n",
        "  # plot the root found\n",
        "  plt.plot(t, g(x0)*t-g(x0)*x0+f(x0), '-.', color='grey', label='differential', lw=1)\n",
        "  plt.plot(x1, f(x1), 'o', label='root')\n",
        "  plt.plot(x0, f(x0), 'o', label='starting guess')\n",
        "  \n",
        "plt.legend(bbox_to_anchor = (1, 1), loc = 'center left', prop = {'size': 10})\n",
        "plt.show()\n",
        "\n"
      ],
      "execution_count": 9,
      "outputs": [
        {
          "output_type": "stream",
          "text": [
            "Enter Guess: 2\n",
            "Tolerable Error: 0.001\n",
            "Maximum Step: 12\n",
            "\n",
            "\n",
            "*** NEWTON METHOD IMPLEMENTATION ***\n",
            "Iteration-1, x1 = 13.330128 and f(x1) = 1.152454\n",
            "\n",
            "Required root is: 13.33012805\n",
            "Iteration-2, x1 = 13.351858 and f(x1) = -0.004784\n",
            "\n",
            "Required root is: 13.35185836\n",
            "Iteration-3, x1 = 13.351769 and f(x1) = -0.000000\n",
            "\n",
            "Required root is: 13.35176878\n",
            "Enter Guess: 3\n",
            "Tolerable Error: 0.001\n",
            "Maximum Step: 12\n",
            "\n",
            "\n",
            "*** NEWTON METHOD IMPLEMENTATION ***\n",
            "Iteration-1, x1 = 3.167860 and f(x1) = 0.332228\n",
            "\n",
            "Required root is: 3.16785958\n",
            "Iteration-2, x1 = 3.141713 and f(x1) = 0.001514\n",
            "\n",
            "Required root is: 3.14171317\n",
            "Iteration-3, x1 = 3.141593 and f(x1) = 0.000000\n",
            "\n",
            "Required root is: 3.14159266\n",
            "Enter Guess: -8\n",
            "Tolerable Error: 0.001\n",
            "Maximum Step: 12\n",
            "\n",
            "\n",
            "*** NEWTON METHOD IMPLEMENTATION ***\n",
            "Iteration-1, x1 = -7.838093 and f(x1) = -0.497814\n",
            "\n",
            "Required root is: -7.83809291\n",
            "Iteration-2, x1 = -7.854035 and f(x1) = 0.001690\n",
            "\n",
            "Required root is: -7.85403542\n",
            "Iteration-3, x1 = -7.853982 and f(x1) = 0.000000\n",
            "\n",
            "Required root is: -7.85398163\n",
            "Enter Guess: 80\n",
            "Tolerable Error: 0.001\n",
            "Maximum Step: 12\n",
            "\n",
            "\n",
            "*** NEWTON METHOD IMPLEMENTATION ***\n",
            "Iteration-1, x1 = 80.118620 and f(x1) = 2.565732\n",
            "\n",
            "Required root is: 80.11862008\n",
            "Iteration-2, x1 = 80.110611 and f(x1) = -0.000621\n",
            "\n",
            "Required root is: 80.11061073\n"
          ],
          "name": "stdout"
        },
        {
          "output_type": "display_data",
          "data": {
            "image/png": "[encoded data removed]",
            "text/plain": [
              "<Figure size 432x288 with 4 Axes>"
            ]
          },
          "metadata": {
            "tags": [],
            "needs_background": "light"
          }
        }
      ]
    },
    {
      "cell_type": "code",
      "metadata": {
        "id": "hlfoVpT9YvTN",
        "colab_type": "code",
        "colab": {}
      },
      "source": [
        "# Import pyplot as plt\n",
        "import matplotlib.pyplot as plt\n",
        "import numpy as np\n",
        "\n",
        "# Defining Function\n",
        "def f(x):\n",
        "   return np.sin(4*x)*x\n",
        "\n",
        "# Defining derivative of function\n",
        "def g(x):\n",
        "   return np.sin(4*x)+4*np.cos(4*x)*x\n",
        "\n",
        "# Implementing Newton Method\n",
        "def newton(x0,e,N):\n",
        "  # print('\\n\\n*** NEWTON METHOD IMPLEMENTATION ***')\n",
        "   step = 1\n",
        "   flag = 1\n",
        "   condition = True\n",
        "   while condition:\n",
        "      if g(x0) == 0.0:\n",
        "         print('Divide by zero error!')\n",
        "         break\n",
        "      x1 = x0 - f(x0)/g(x0)\n",
        "     # print('Iteration-%d, x1 = %0.6f and f(x1) = %0.6f' % (step, x1, f(x1)))\n",
        "      x0 = x1\n",
        "      #plt.plot(x1, step, 'o')\n",
        "      step = step + 1\n",
        "      \n",
        "      if step > N:\n",
        "         flag = 0\n",
        "         break\n",
        "      condition = abs(f(x1)) > e\n",
        "      #if flag==1:\n",
        "       # print('\\nRequired root is: %0.8f' % x1)\n",
        "      #else:\n",
        "       # print('\\nNot Convergent.')\n",
        "   return x1, step      \n",
        " \n",
        "\n",
        "#e = input('Tolerable Error: ')\n",
        "e=0.01\n",
        "e = float(e)\n",
        "#N = input('Maximum Step: ')\n",
        "N=20\n",
        "N = int(N)\n",
        "\n",
        "#x0 = input('Beginning: ')\n",
        "x0 = 0.1\n",
        "x0 = float(x0)\n",
        "\n",
        "#for i in range(5):  \n",
        " # x0 = x0 + 0.05\n",
        " # x0 = float(x0)\n",
        "\n",
        "\n",
        "#x1 = input('End: ')\n",
        "x1 = 5\n",
        "x1 = float(x1)\n",
        "\n",
        "x = np.arange(x0,x1,0.001)\n",
        "\n",
        "# Starting Newton Method\n",
        "StartingGuess = []\n",
        "root = []\n",
        "nbStep = []\n",
        "\n",
        "for i in x:\n",
        "  StartingGuess.append(i)\n",
        "  x_root, step = newton(i,e,N)\n",
        "  root.append(x_root) \n",
        "  nbStep.append(step)\n",
        "\n",
        "\n"
      ],
      "execution_count": 0,
      "outputs": []
    },
    {
      "cell_type": "code",
      "metadata": {
        "id": "xKHCCNFT4Uwv",
        "colab_type": "code",
        "colab": {
          "base_uri": "https://localhost:8080/",
          "height": 265
        },
        "outputId": "8fd1645b-0384-4e8b-8781-188934ca0113"
      },
      "source": [
        " \n",
        "##############\n",
        "#plot the function with roots\n",
        "t = np.arange(min(x1,x0)-5, max(x1,x0)+5, 0.01)\n",
        "ssin = f(t)\n",
        "zero = [0] * len(t)\n",
        "zeroo = [0] * len(root)\n",
        "plt.plot(t, ssin, lw=2, label='function')\n",
        "plt.plot(t, zero, lw=3)\n",
        "plt.plot(root, zeroo, 'o', label='roots')\n",
        "\n",
        "plt.xlim((min(x1,x0)-5, max(x1,x0)+5))\n",
        "plt.legend()\n",
        "plt.show()\n",
        "\n"
      ],
      "execution_count": 9,
      "outputs": [
        {
          "output_type": "display_data",
          "data": {
            "image/png": "[encoded data removed]",
            "text/plain": [
              "<Figure size 432x288 with 1 Axes>"
            ]
          },
          "metadata": {
            "tags": [],
            "needs_background": "light"
          }
        }
      ]
    },
    {
      "cell_type": "code",
      "metadata": {
        "id": "psEazVWz4Xg3",
        "colab_type": "code",
        "colab": {
          "base_uri": "https://localhost:8080/",
          "height": 793
        },
        "outputId": "10c7e5f2-254a-4632-9556-822d0c53aaab"
      },
      "source": [
        "\n",
        "##############\n",
        "#Plot part\n",
        "plt.plot(StartingGuess, root, label='Root')\n",
        "#Give x axis label\n",
        "plt.xlabel('Starting Guess')\n",
        "#Give y axis label\n",
        "plt.ylabel('Amplitude')\n",
        "#plt.grid(True, which='both')\n",
        "plt.legend()\n",
        "plt.show()\n",
        "\n",
        "### same with y lim\n",
        "plt.plot(StartingGuess, root, label='Root')\n",
        "#Give x axis label\n",
        "plt.xlabel('Starting Guess')\n",
        "#Give y axis label\n",
        "plt.ylabel('Amplitude')\n",
        "#plt.grid(True, which='both')\n",
        "plt.ylim(-10,10)\n",
        "plt.legend()\n",
        "plt.show()\n",
        "\n",
        "###plot number of iterations\n",
        "plt.plot(StartingGuess, nbStep, lw=3)\n",
        "plt.plot(StartingGuess, nbStep, 'o', label='no. of iterations')\n",
        "\n",
        "plt.legend()\n",
        "plt.show()\n"
      ],
      "execution_count": 22,
      "outputs": [
        {
          "output_type": "display_data",
          "data": {
            "image/png": "[encoded data removed]",
            "text/plain": [
              "<Figure size 432x288 with 1 Axes>"
            ]
          },
          "metadata": {
            "tags": [],
            "needs_background": "light"
          }
        },
        {
          "output_type": "display_data",
          "data": {
            "image/png": "[encoded data removed]",
            "text/plain": [
              "<Figure size 432x288 with 1 Axes>"
            ]
          },
          "metadata": {
            "tags": [],
            "needs_background": "light"
          }
        },
        {
          "output_type": "display_data",
          "data": {
            "image/png": "[encoded data removed]",
            "text/plain": [
              "<Figure size 432x288 with 1 Axes>"
            ]
          },
          "metadata": {
            "tags": [],
            "needs_background": "light"
          }
        }
      ]
    }
  ]
}