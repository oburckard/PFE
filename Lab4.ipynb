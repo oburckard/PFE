{
  "nbformat": 4,
  "nbformat_minor": 0,
  "metadata": {
    "colab": {
      "name": "Lab4.ipynb",
      "provenance": [],
      "collapsed_sections": [],
      "authorship_tag": "ABX9TyNPcDJCJs9j8METNCobTksI",
      "include_colab_link": true
    },
    "kernelspec": {
      "name": "python3",
      "display_name": "Python 3"
    }
  },
  "cells": [
    {
      "cell_type": "markdown",
      "metadata": {
        "id": "view-in-github",
        "colab_type": "text"
      },
      "source": [
        "<a href=\"https://colab.research.google.com/github/oburckard/MyRepo/blob/master/Lab4.ipynb\" target=\"_parent\"><img src=\"https://colab.research.google.com/assets/colab-badge.svg\" alt=\"Open In Colab\"/></a>"
      ]
    },
    {
      "cell_type": "code",
      "metadata": {
        "id": "LZePt9PYSqXh",
        "colab_type": "code",
        "outputId": "fd4a1125-1514-47df-d5dc-d4ae7803f02a",
        "colab": {
          "base_uri": "https://localhost:8080/",
          "height": 590
        }
      },
      "source": [
        "###BISECTION METHOD###\n",
        "import math\n",
        "# Defining Function\n",
        "def f(x):\n",
        "  #return x**3-5*x-9\n",
        "  return x*math.sin(4*x)\n",
        "\n",
        "# Implementing Bisection Method\n",
        "def bisection(x0,x1,e):\n",
        "  step = 1\n",
        "  print('\\n\\n*** BISECTION METHOD IMPLEMENTATION ***')\n",
        "  condition = True\n",
        "  while condition:\n",
        "    x2 = (x0 + x1)/2\n",
        "    print('Iteration-%d, x2 = %0.6f and f(x2) = %0.6f' % (step, x2, f(x2)))\n",
        "\n",
        "    if f(x0) * f(x2) < 0:\n",
        "      x1 = x2\n",
        "    else:\n",
        "      x0 = x2\n",
        "\n",
        "    step = step + 1\n",
        "    condition = abs(f(x2)) > e\n",
        "    \n",
        "    print('\\nRequired Root is : %0.8f' % x2)\n",
        "# Input Section\n",
        "x0 = input('First Guess: ')\n",
        "x1 = input('Second Guess: ')\n",
        "e = input('Tolerable Error: ')\n",
        "# Converting input to float\n",
        "x0 = float(x0)\n",
        "x1 = float(x1)\n",
        "e = float(e)\n",
        "#Note: You can combine above two section like this\n",
        "# x0 = float(input('First Guess: '))\n",
        "# x1 = float(input('Second Guess: '))\n",
        "# e = float(input('Tolerable Error: '))\n",
        "# Checking Correctness of initial guess values and bisecting\n",
        "if f(x0) * f(x1) > 0.0:\n",
        "  print('Given guess values do not bracket the root.')\n",
        "  print('Try Again with different guess values.')\n",
        "else:\n",
        "  bisection(x0,x1,e)\n"
      ],
      "execution_count": 29,
      "outputs": [
        {
          "output_type": "stream",
          "text": [
            "First Guess: -1.3\n",
            "Second Guess: -0.7\n",
            "Tolerable Error: 0.001\n",
            "\n",
            "\n",
            "*** BISECTION METHOD IMPLEMENTATION ***\n",
            "Iteration-1, x2 = -1.000000 and f(x2) = -0.756802\n",
            "\n",
            "Required Root is : -1.00000000\n",
            "Iteration-2, x2 = -0.850000 and f(x2) = -0.217210\n",
            "\n",
            "Required Root is : -0.85000000\n",
            "Iteration-3, x2 = -0.775000 and f(x2) = 0.032225\n",
            "\n",
            "Required Root is : -0.77500000\n",
            "Iteration-4, x2 = -0.812500 and f(x2) = -0.087909\n",
            "\n",
            "Required Root is : -0.81250000\n",
            "Iteration-5, x2 = -0.793750 and f(x2) = -0.026512\n",
            "\n",
            "Required Root is : -0.79375000\n",
            "Iteration-6, x2 = -0.784375 and f(x2) = 0.003210\n",
            "\n",
            "Required Root is : -0.78437500\n",
            "Iteration-7, x2 = -0.789062 and f(x2) = -0.011565\n",
            "\n",
            "Required Root is : -0.78906250\n",
            "Iteration-8, x2 = -0.786719 and f(x2) = -0.004156\n",
            "\n",
            "Required Root is : -0.78671875\n",
            "Iteration-9, x2 = -0.785547 and f(x2) = -0.000467\n",
            "\n",
            "Required Root is : -0.78554687\n"
          ],
          "name": "stdout"
        }
      ]
    },
    {
      "cell_type": "code",
      "metadata": {
        "id": "plX1wEq7YpmB",
        "colab_type": "code",
        "outputId": "54569d8c-c663-4af5-ec56-0cdd48fdd05a",
        "colab": {
          "base_uri": "https://localhost:8080/",
          "height": 364
        }
      },
      "source": [
        "### FIXED POINT IERATION METHOD ###\n",
        "\n",
        "# Importing math to use sqrt function\n",
        "import math\n",
        "\n",
        "def f(x):\n",
        "  return x*x*x + x*x -1\n",
        "# Re-writing f(x)=0 to x = g(x)\n",
        "def g(x):\n",
        "  return 1/math.sqrt(1+x)\n",
        "# Implementing Fixed Point Iteration Method\n",
        "def fixedPointIteration(x0, e, N):\n",
        "  print('\\n\\n*** FIXED POINT ITERATION ***')\n",
        "  step = 1\n",
        "  flag = 1\n",
        "  condition = True\n",
        "  while condition:\n",
        "    x1 = g(x0)\n",
        "    print('Iteration-%d, x1 = %0.6f and f(x1) = %0.6f' % (step, x1, f(x1)))\n",
        "    x0 = x1\n",
        "    step = step + 1\n",
        "    if step > N:\n",
        "      flag=0\n",
        "      break  \n",
        "    condition = abs(f(x1)) > e\n",
        "  if flag==1:\n",
        "    print('\\nRequired root is: %0.8f' % x1)\n",
        "  else:\n",
        "    print('\\nNot Convergent.')\n",
        "\n",
        "# Input Section\n",
        "x0 = input('Enter Guess: ')\n",
        "e = input('Tolerable Error: ')\n",
        "N = input('Maximum Step: ')\n",
        "# Converting x0 and e to float\n",
        "x0 = float(x0)\n",
        "e = float(e)\n",
        "# Converting N to intenger\n",
        "N = int(N)\n",
        "#Note: You can combine above three section like this\n",
        "# x0 = float(input('Enter Guess: '))\n",
        "# e = float(input('Tolerable Error: '))\n",
        "# N = int(input('Maximum Step: '))\n",
        "# Starting fixed point iteration\n",
        "fixedPointIteration(x0,e,N)"
      ],
      "execution_count": 0,
      "outputs": [
        {
          "output_type": "stream",
          "text": [
            "Enter Guess: 3\n",
            "Tolerable Error: 0.001\n",
            "Maximum Step: 10\n",
            "\n",
            "\n",
            "*** FIXED POINT ITERATION ***\n",
            "Iteration-1, x1 = 0.500000 and f(x1) = -0.625000\n",
            "-2.5\n",
            "Iteration-2, x1 = 0.816497 and f(x1) = 0.210998\n",
            "0.31649658092772615\n",
            "Iteration-3, x1 = 0.741964 and f(x1) = -0.041031\n",
            "-0.07453279662500023\n",
            "Iteration-4, x1 = 0.757671 and f(x1) = 0.009017\n",
            "0.015706821901450674\n",
            "Iteration-5, x1 = 0.754278 and f(x1) = -0.001930\n",
            "-0.003392928996788447\n",
            "Iteration-6, x1 = 0.755007 and f(x1) = 0.000416\n",
            "0.0007290676943172425\n",
            "\n",
            "Required root is: 0.75500674\n"
          ],
          "name": "stdout"
        }
      ]
    },
    {
      "cell_type": "code",
      "metadata": {
        "id": "1wEVXIKeZpiY",
        "colab_type": "code",
        "outputId": "678a23fa-de1d-48dc-b68a-8e2288344682",
        "colab": {
          "base_uri": "https://localhost:8080/",
          "height": 243
        }
      },
      "source": [
        "### Newton's method algorithm ###\n",
        "\n",
        "# Defining Function\n",
        "def f(x):\n",
        "  #return x**3 - 5*x - 9\n",
        "  return x*math.sin(4*x)\n",
        "\n",
        "# Defining derivative of function\n",
        "def g(x):\n",
        "  #return 3*x**2 - 5\n",
        "  return math.sin(4*x)+4*x*math.cos(4*x)\n",
        "\n",
        "# Implementing Newton Method\n",
        "def newton(x0,e,N):\n",
        "  print('\\n\\n*** NEWTON METHOD IMPLEMENTATION ***')\n",
        "  step = 1\n",
        "  flag = 1\n",
        "  condition = True\n",
        "  while condition:\n",
        "    if g(x0) == 0.0:\n",
        "      print('Divide by zero error!')\n",
        "      break\n",
        "\n",
        "    x1 = x0 - f(x0)/g(x0)\n",
        "    print('Iteration-%d, x1 = %0.6f and f(x1) = %0.6f' % (step, x1, f(x1)))\n",
        "    x0 = x1\n",
        "    step = step + 1\n",
        "\n",
        "    if step > N:\n",
        "      flag = 0\n",
        "      break\n",
        "    condition = abs(f(x1)) > e\n",
        "  if flag==1:\n",
        "    print('\\nRequired root is: %0.8f' % x1)\n",
        "  else:\n",
        "    print('\\nNot Convergent.')\n",
        "    \n",
        "# Input Section\n",
        "x0 = input('Enter Guess: ')\n",
        "e = input('Tolerable Error: ')\n",
        "N = input('Maximum Step: ')\n",
        "# Converting x0 and e to float\n",
        "x0 = float(x0)\n",
        "e = float(e)\n",
        "# Converting N to integer\n",
        "N = int(N)\n",
        "#Note: You can combine above three section like this\n",
        "# x0 = float(input('Enter Guess: '))\n",
        "# e = float(input('Tolerable Error: '))\n",
        "# N = int(input('Maximum Step: '))\n",
        "# Starting Newton Method\n",
        "newton(x0,e,N)\n"
      ],
      "execution_count": 32,
      "outputs": [
        {
          "output_type": "stream",
          "text": [
            "Enter Guess: -1.3\n",
            "Tolerable Error: 0.0001\n",
            "Maximum Step: 10\n",
            "\n",
            "\n",
            "*** NEWTON METHOD IMPLEMENTATION ***\n",
            "Iteration-1, x1 = -2.039611 and f(x1) = 1.945806\n",
            "Iteration-2, x1 = -3.344015 and f(x1) = 2.421316\n",
            "Iteration-3, x1 = -3.100663 and f(x1) = -0.505369\n",
            "Iteration-4, x1 = -3.142520 and f(x1) = 0.011654\n",
            "Iteration-5, x1 = -3.141593 and f(x1) = 0.000003\n",
            "\n",
            "Required root is: -3.14159292\n"
          ],
          "name": "stdout"
        }
      ]
    },
    {
      "cell_type": "code",
      "metadata": {
        "id": "3lTRY2IGe3_g",
        "colab_type": "code",
        "outputId": "5519095c-4523-40d1-ca60-8ca219351719",
        "colab": {
          "base_uri": "https://localhost:8080/",
          "height": 225
        }
      },
      "source": [
        "### Secant method ###\n",
        "\n",
        "# Defining Function\n",
        "def f(x):\n",
        "  #return x**3 - 5*x - 9\n",
        "  return x*math.sin(4*x)\n",
        "  \n",
        "# Implementing Secant Method\n",
        "def secant(x0,x1,e,N):\n",
        "  print('\\n\\n*** SECANT METHOD IMPLEMENTATION ***')\n",
        "  step = 1\n",
        "  condition = True\n",
        "  while condition:\n",
        "    if f(x0) == f(x1):\n",
        "      print('Divide by zero error!')\n",
        "      break\n",
        "\n",
        "    x2 = x0 - (x1-x0)*f(x0)/( f(x1) - f(x0) )\n",
        "    print('Iteration-%d, x2 = %0.6f and f(x2) = %0.6f' % (step, x2, f(x2)))\n",
        "    x0 = x1\n",
        "    x1 = x2\n",
        "    step = step + 1\n",
        "\n",
        "    if step > N:\n",
        "      print('Not Convergent!')\n",
        "      break\n",
        "\n",
        "    condition = abs(f(x2)) > e\n",
        "\n",
        "  print('\\n Required root is: %0.8f' % x2)\n",
        "\n",
        "# Input Section\n",
        "x0 = input('Enter First Guess: ')\n",
        "x1 = input('Enter Second Guess: ')\n",
        "e = input('Tolerable Error: ')\n",
        "N = input('Maximum Step: ')\n",
        "# Converting x0 and e to float\n",
        "x0 = float(x0)\n",
        "x1 = float(x1)\n",
        "e = float(e)\n",
        "# Converting N to integer\n",
        "N = int(N)\n",
        "\n",
        "#Note: You can combine above three section like this\n",
        "# x0 = float(input('Enter First Guess: '))\n",
        "# x1 = float(input('Enter Second Guess: '))\n",
        "# e = float(input('Tolerable Error: '))\n",
        "# N = int(input('Maximum Step: '))\n",
        "# Starting Secant Method\n",
        "secant(x0,x1,e,N)"
      ],
      "execution_count": 36,
      "outputs": [
        {
          "output_type": "stream",
          "text": [
            "Enter First Guess: -1.3\n",
            "Enter Second Guess: -0.7\n",
            "Tolerable Error: 0.001\n",
            "Maximum Step: 10\n",
            "\n",
            "\n",
            "*** SECANT METHOD IMPLEMENTATION ***\n",
            "Iteration-1, x2 = -0.801733 and f(x2) = -0.052348\n",
            "Iteration-2, x2 = -0.783167 and f(x2) = 0.006989\n",
            "Iteration-3, x2 = -0.785354 and f(x2) = 0.000139\n",
            "\n",
            " Required root is: -0.78535392\n"
          ],
          "name": "stdout"
        }
      ]
    },
    {
      "cell_type": "code",
      "metadata": {
        "id": "IZm4S8P-Lu1h",
        "colab_type": "code",
        "colab": {
          "base_uri": "https://localhost:8080/",
          "height": 296
        },
        "outputId": "668ad355-142e-49d7-fdfe-da9d6d36f470"
      },
      "source": [
        "import numpy as np\n",
        "import matplotlib.pyplot as plot\n",
        "time = np.arange(-2,2,0.01)\n",
        "amplitude_sin = time*np.sin(4*time)\n",
        "plot.plot(time, amplitude_sin)\n",
        "plot.xlabel('Time')\n",
        "plot.ylabel('Amplitude = time*sin(4*time)')\n",
        "plot.axhline(y=0, color='orange')"
      ],
      "execution_count": 22,
      "outputs": [
        {
          "output_type": "execute_result",
          "data": {
            "text/plain": [
              "<matplotlib.lines.Line2D at 0x7fe17b98f5c0>"
            ]
          },
          "metadata": {
            "tags": []
          },
          "execution_count": 22
        },
        {
          "output_type": "display_data",
          "data": {
            "image/png": "[encoded data removed]",
            "text/plain": [
              "<Figure size 432x288 with 1 Axes>"
            ]
          },
          "metadata": {
            "tags": []
          }
        }
      ]
    }
  ]
}